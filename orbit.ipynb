{
 "cells": [
  {
   "cell_type": "code",
   "execution_count": 369,
   "metadata": {},
   "outputs": [],
   "source": [
    "import scipy as sc\n",
    "from scipy import optimize\n",
    "from scipy import integrate\n",
    "import numpy as np\n",
    "import matplotlib.pyplot as plt"
   ]
  },
  {
   "cell_type": "code",
   "execution_count": 370,
   "metadata": {},
   "outputs": [],
   "source": [
    "q = 1378\n",
    "q_IK = 237\n",
    "h = (6371+763.2)/6371\n",
    "Lt = 12*3600\n",
    "R = 6371\n",
    "G = 6.67*10**-11\n",
    "M = 5.97*10**24\n",
    "F = 30\n",
    "sigma = 5.67*10**(-8)\n",
    "m = 70.5\n",
    "c = 1000\n",
    "T = 6000\n",
    "eps_top = 0.85\n",
    "As_top = 0.85\n",
    "eps_bot = 0.1\n",
    "As_bot = 0.90\n",
    "Alb = 0.3\n",
    "theta = np.abs(Lt/3600-6)/24.0*np.pi*2\n",
    "def f12(beta):\n",
    "    if beta <= np.arccos(1/h):\n",
    "        return np.cos(beta)/h**2\n",
    "    elif beta >= np.pi - np.arccos(1/h):\n",
    "        return 0\n",
    "    else:\n",
    "        x = (h**2-1)**0.5\n",
    "        y = -x/np.tan(beta)\n",
    "        return 1.0/np.pi*(\n",
    "            (np.cos(beta)*np.arccos(y)-x*np.sin(beta)*(1-y**2)**0.5)/h**2 + np.arctan(np.sin(beta)*(1-y**2)**0.5/x)\n",
    "            )\n"
   ]
  },
  {
   "cell_type": "code",
   "execution_count": 371,
   "metadata": {},
   "outputs": [
    {
     "name": "stdout",
     "output_type": "stream",
     "text": [
      "0.3047967551793229\n"
     ]
    },
    {
     "data": {
      "image/png": "[encoded data removed]",
      "text/plain": [
       "<Figure size 640x480 with 1 Axes>"
      ]
     },
     "metadata": {},
     "output_type": "display_data"
    }
   ],
   "source": [
    "x = [float(np.pi/100*i) for i in range (0, 101)]\n",
    "y = [f12(x[i]) for i in range (len(x))]\n",
    "plt.plot(x,y)\n",
    "result = 0\n",
    "\n",
    "theta = np.abs(Lt/3600-6)/24.0*np.pi*2\n",
    "\n",
    "X = (h**2 - 1)**0.5 \n",
    "if Lt == 3600 * 6:\n",
    "    result = 1/np.pi *(np.arctan(1/X)-X/h**2)\n",
    "elif Lt == 3600 * 9:\n",
    "     result = (integrate.quad(f12, 0, np.pi)[0]/np.pi+1/np.pi *(np.arctan(1/X)-X/h**2))/2\n",
    "else:\n",
    "    result = integrate.quad(f12, 0, np.pi)[0]/np.pi\n",
    "\n",
    "K= result  \n",
    "print(K)\n",
    "K12 = integrate.quad(f12, 0, np.pi)[0]/np.pi  "
   ]
  },
  {
   "cell_type": "code",
   "execution_count": 373,
   "metadata": {},
   "outputs": [
    {
     "name": "stdout",
     "output_type": "stream",
     "text": [
      "759.6862664971096\n"
     ]
    }
   ],
   "source": [
    "def get_q_solar(LTAN,T,bl):\n",
    "    r = ((G*M*T**2)/(4*np.pi**2))**(1/3)/1000\n",
    "    theta = np.abs(LTAN-6)/24.0*np.pi*2\n",
    "    a = r\n",
    "    c = R\n",
    "    b = a * np.cos(theta)\n",
    "    if (b >= c):\n",
    "        return q * As_top\n",
    "    y = ((c**2 / a**2 * b**2 - b**2) / (b**2/a**2 - 1))**0.5\n",
    "    beta = np.arccos(y / R)\n",
    "    alpha = np.arcsin(np.sin(beta) * R / r)\n",
    "    T_night = alpha / np.pi*T\n",
    "\n",
    "    if(bl == True):\n",
    "       return (1 - T_night/T)*q*As_top\n",
    "    else:\n",
    "       return T_night\n",
    "\n",
    "result = get_q_solar(Lt/3600,6000,True)\n",
    "print(result)\n",
    "\n",
    "\n"
   ]
  },
  {
   "cell_type": "code",
   "execution_count": 374,
   "metadata": {},
   "outputs": [
    {
     "data": {
      "text/plain": [
       "80.21598754832374"
      ]
     },
     "execution_count": 374,
     "metadata": {},
     "output_type": "execute_result"
    }
   ],
   "source": [
    "def get_Albedo(LTAN):\n",
    "    theta = np.abs(LTAN-6)/24.0*np.pi*2\n",
    "    \n",
    "    return K12 * 0.3 * q * 2/np.pi * np.sin(theta)**2 \n",
    "\n",
    "result = get_Albedo(Lt/3600)\n",
    "result\n"
   ]
  },
  {
   "cell_type": "code",
   "execution_count": 375,
   "metadata": {},
   "outputs": [
    {
     "name": "stdout",
     "output_type": "stream",
     "text": [
      "24632.627184839526\n",
      "2382.5421567372396\n"
     ]
    }
   ],
   "source": [
    "\n",
    "LTAN = Lt/3600\n",
    "q_S_top = get_q_solar(LTAN,T,True)\n",
    "q_IR_top = K*q_IK * eps_top\n",
    "Q_top = (q_S_top + q_IR_top) * F\n",
    "print (Q_top)\n",
    "\n",
    "\n",
    "q_IR_bot = K*q_IK * eps_bot\n",
    "q_ALB_bot = get_Albedo(LTAN) * As_bot\n",
    "Q_bot = (q_IR_bot + q_ALB_bot) * F\n",
    "print (Q_bot)\n",
    "\n"
   ]
  },
  {
   "cell_type": "code",
   "execution_count": 376,
   "metadata": {},
   "outputs": [
    {
     "name": "stdout",
     "output_type": "stream",
     "text": [
      "T_night = 2108.496884672879\n",
      "T_day = 3891.503115327121\n"
     ]
    }
   ],
   "source": [
    "T_night = get_q_solar(LTAN,T,False)\n",
    "T_day = T - get_q_solar(LTAN,T,False)\n",
    "print(\"T_night =\", get_q_solar(LTAN,T,False))\n",
    "print(\"T_day =\", T - get_q_solar(LTAN,T,False))"
   ]
  },
  {
   "cell_type": "code",
   "execution_count": 377,
   "metadata": {},
   "outputs": [
    {
     "name": "stdout",
     "output_type": "stream",
     "text": [
      "0.5586453578159299\n",
      "0.05094815254271586\n",
      "0.6095935103586458\n",
      "0.3047967551793229\n"
     ]
    }
   ],
   "source": [
    "kl = integrate.quad(f12, 0, np.pi/2)[0]/(np.pi/2)\n",
    "kd = integrate.quad(f12, np.pi/2, np.pi)[0]/(np.pi/2)\n",
    "kef = kl+kd\n",
    "print (kl)\n",
    "print (kd)\n",
    "print (kef)\n",
    "print (K)"
   ]
  },
  {
   "cell_type": "code",
   "execution_count": 379,
   "metadata": {},
   "outputs": [
    {
     "data": {
      "text/plain": [
       "88.13245686413103"
      ]
     },
     "execution_count": 379,
     "metadata": {},
     "output_type": "execute_result"
    }
   ],
   "source": [
    " #Q_top =((1377*As_top)*T_day + (237*0.051*eps_top)*T/2 + (237*0.56*eps_top)*T/2)*F/T\n",
    "T_av_top = (Q_top/(sigma*eps_top*F))**0.25\n",
    "T_av_top-273.15"
   ]
  },
  {
   "cell_type": "code",
   "execution_count": 380,
   "metadata": {},
   "outputs": [
    {
     "data": {
      "text/plain": [
       "70.87029984553368"
      ]
     },
     "execution_count": 380,
     "metadata": {},
     "output_type": "execute_result"
    }
   ],
   "source": [
    " #Q_bot = ((q_IK*kl*eps_bot)*T/2 + (kl*0.3*q*As_bot/(np.pi/2))*T/2 + (q_IK*kd*eps_bot)*T/2)*F/T\n",
    "T_av_bot = (Q_bot/(sigma*eps_bot*F))**0.25\n",
    "T_av_bot-273.15"
   ]
  },
  {
   "cell_type": "code",
   "execution_count": 381,
   "metadata": {},
   "outputs": [
    {
     "name": "stdout",
     "output_type": "stream",
     "text": [
      "[86.23009572 86.22629387]\n"
     ]
    }
   ],
   "source": [
    "lymbda = 85\n",
    "delta = 2*10e-3\n",
    "\n",
    "def f(x):\n",
    "    x = np.array(x)\n",
    "    return np.array([\n",
    "        Q_top/F + (-x[0]+x[1])* lymbda/(delta)  - eps_top*sigma*(x[0])**4  - 1.0,\n",
    "        Q_bot/F + (x[0]-x[1])* lymbda/(delta)  - eps_bot*sigma*(x[1])**4  - 1.0\n",
    "        ])\n",
    "\n",
    "solution = optimize.root(f, x0 = [361, 227])  \n",
    "print(solution.x - 273.15)  "
   ]
  },
  {
   "cell_type": "code",
   "execution_count": 382,
   "metadata": {},
   "outputs": [
    {
     "data": {
      "text/plain": [
       "7.84313725490196e-06"
      ]
     },
     "execution_count": 382,
     "metadata": {},
     "output_type": "execute_result"
    }
   ],
   "source": [
    "res = (delta/lymbda)/F\n",
    "res"
   ]
  },
  {
   "cell_type": "code",
   "execution_count": 383,
   "metadata": {},
   "outputs": [],
   "source": [
    "p = 2350 \n",
    "h1 = 0.001\n",
    "\n",
    "As = 0.85\n",
    "eps = 0.85\n",
    "\n",
    "t1 = T_day    #    65*60    \n",
    "t2 = T_night  #    35*60     \n",
    "\n",
    "\n",
    "\n",
    "eps_top = eps\n",
    "eps_bot = eps\n",
    "As_top = As\n",
    "As_bot = As\n",
    "\n",
    "\n",
    "q1 = (q_IK*kd*eps_top + q*As_top) \n",
    "q2 = (q_IK*kl*eps_top)                 \n",
    "\n",
    "\n",
    "sigma = 5.67e-8"
   ]
  },
  {
   "cell_type": "code",
   "execution_count": 384,
   "metadata": {},
   "outputs": [
    {
     "data": {
      "text/plain": [
       "112.53910733201909"
      ]
     },
     "execution_count": 384,
     "metadata": {},
     "output_type": "execute_result"
    }
   ],
   "source": [
    "q2"
   ]
  },
  {
   "cell_type": "code",
   "execution_count": 385,
   "metadata": {},
   "outputs": [],
   "source": [
    "C = p*h1*c\n",
    "A = q2 \n",
    "B = q1\n",
    "D = eps*sigma"
   ]
  },
  {
   "cell_type": "code",
   "execution_count": 386,
   "metadata": {},
   "outputs": [],
   "source": [
    "a = (A/C) ** 0.25 \n",
    "b = (B/C) ** 0.25\n",
    "d = (D/C) ** 0.25\n"
   ]
  },
  {
   "cell_type": "code",
   "execution_count": 387,
   "metadata": {},
   "outputs": [],
   "source": [
    "alpha = a/d \n",
    "beta = b/d"
   ]
  },
  {
   "cell_type": "code",
   "execution_count": 388,
   "metadata": {},
   "outputs": [],
   "source": [
    "def post1(t, T0, T1):\n",
    "    arc0 = 2*np.arctan(T0/alpha) \n",
    "    arc1 = 2*np.arctan(T1/alpha) \n",
    "    tad = 4*t*alpha**3*d**4\n",
    "    step = tad + arc0 - arc1\n",
    "    exp = np.exp(step)\n",
    "    \n",
    "    exp *= (T0+alpha) / (T0-alpha)\n",
    "    return (alpha+exp*alpha)/(exp-1.0)\n",
    "    \n",
    "\n",
    "def post0(t, T0, T1): \n",
    "    arc0 = 2*np.arctan(T0/beta)\n",
    "    arc1 = 2*np.arctan(T1/beta)\n",
    "    tad = 4*t*beta**3*d**4\n",
    "    step = tad - arc0 + arc1\n",
    "    exp = np.exp(step)\n",
    "    \n",
    "    exp *= (T1+beta)/(T1-beta)\n",
    "    return (beta+exp*beta)/(exp-1.0)"
   ]
  },
  {
   "cell_type": "code",
   "execution_count": 389,
   "metadata": {},
   "outputs": [
    {
     "name": "stdout",
     "output_type": "stream",
     "text": [
      "309.5697923000701 293.08939094186945\n",
      "318.1826053661698 286.9190730642749\n",
      "325.9341371217867 281.40100583438846\n",
      "332.9105156980912 276.4599050811808\n",
      "339.1892564131611 272.03079275372846\n",
      "344.8401230532844 268.0571668352909\n",
      "349.9259030261326 264.4896003895715\n",
      "354.50310499861746 261.2846453213946\n",
      "358.62258677096304 258.4039578031733\n",
      "362.3301203633709 255.81358862604188\n",
      "365.6669005940198 253.48339884258735\n",
      "368.6700027992658 251.3865724321102\n",
      "371.3727947818229 249.49920542110937\n",
      "373.80530756412634 247.79995621197236\n",
      "375.9945690663593 246.26974561532472\n",
      "377.9649044166779 244.89149775997947\n",
      "379.7382062304135 243.64991500329734\n",
      "381.3341778613552 242.5312814052836\n",
      "382.7705523279043 241.52329041064897\n",
      "384.06328934661303 240.61489320584866\n",
      "385.22675266236996 239.79616485304436\n",
      "386.2738696455667 239.05818579929468\n",
      "387.21627492954804 238.39293675210928\n",
      "388.0644396843169 237.79320522700576\n",
      "388.82778796286925 237.25250232724915\n",
      "389.51480141289505 236.76498852405388\n",
      "390.13311351730937 236.32540737726282\n",
      "390.68959441073025 235.92902627947362\n",
      "391.1904272143089 235.5715834265286\n",
      "391.6411767370768 235.249240318661\n",
      "392.04685130715797 234.9585391828367\n",
      "392.41195841986007 234.69636478064976\n",
      "392.74055482095645 234.45991012965357\n",
      "393.0362915816398 234.2466457209412\n",
      "393.30245466598046 234.0542918635024\n",
      "393.54200144163923 233.88079382748882\n",
      "393.75759353950815 233.72429949492764\n",
      "393.95162642738785 233.58313925838596\n",
      "394.1262560262968 233.45580793622477\n",
      "394.2834226651498 233.3409484979157\n",
      "394.42487263996856 233.23733741486052\n",
      "394.55217761717086 233.14387147162523\n",
      "394.6667520965315 233.05955588978955\n",
      "394.7698691278465 232.98349363199102\n",
      "394.862674455931 232.914875767439\n",
      "394.94619925111783 232.85297279238915\n",
      "395.0213715667054 232.79712680997483\n",
      "395.08902665066154 232.74674448354014\n",
      "395.1499162261565 232.70129068633923\n",
      "395.20471684404276 232.66028277827397\n",
      "395.25403740008704 232.62328544733805\n",
      "395.2984259004787 232.58990605970735\n",
      "395.33837555078776 232.55979046804336\n",
      "395.3743302360267 232.53261923262698\n",
      "395.4066894527064 232.50810421447568\n",
      "395.43581274768627 232.48598550367166\n",
      "395.4620237131394 232.46602864979099\n",
      "395.48561358202124 232.44802216461625\n",
      "395.5068444639915 232.431775270276\n",
      "395.52595225774365 232.41711586861874\n",
      "395.5431492721016 232.40388871002543\n",
      "395.5586265850065 232.39195374202254\n",
      "395.57255616660547 232.38118461999883\n",
      "395.58509279003056 232.37146736407837\n",
      "395.59637575110054 232.36269914777625\n",
      "395.6065304160522 232.35478720548215\n",
      "395.6156696144984 232.34764784709378\n",
      "395.6238948930908 232.34120556927365\n",
      "395.63129764381557 232.3353922538391\n",
      "395.63796011946033 232.3301464447298\n",
      "395.64395634753384 232.32541269583925\n",
      "395.6493529527939 232.32114098275534\n",
      "395.65420989752243 232.31728617213892\n",
      "395.65858114777313 232.31380754308594\n",
      "395.6625152729943 232.31066835537436\n",
      "395.6660559856893 232.30783545999788\n",
      "395.66924262711115 232.30527894784012\n",
      "395.6721106043875 232.30297183275042\n",
      "395.67469178393327 232.3008897656485\n",
      "395.6770148455218 232.29901077661785\n",
      "395.679105600949 232.29731504224424\n",
      "395.68098728083135 232.29578467572625\n",
      "395.6826807927235 232.29440353752696\n",
      "395.6842049534246 232.29315706455426\n",
      "395.6855766980541 232.2920321160554\n",
      "395.6868112682191 232.2910168345885\n",
      "395.6879223813664 232.29010052059508\n",
      "395.68892238319773 232.2892735192414\n",
      "395.6898223848449 232.28852711832786\n",
      "395.69063238632634 232.2878534561829\n",
      "395.69136138765884 232.28724543856367\n",
      "395.6920174888573 232.28669666368285\n",
      "395.6926079799352 232.28620135456532\n",
      "395.6931394219047 232.28575429801828\n",
      "395.69361771967664 232.28535078956716\n",
      "395.6940481876709 232.28498658377404\n",
      "395.69443560886526 232.2846578494118\n",
      "395.6947842879398 232.28436112901895\n",
      "395.6950980991065 232.2840933024072\n",
      "395.6953805291561 232.28385155373434\n",
      "395.6956347162005 232.28363334179454\n",
      "395.6958634845402 232.28343637321112\n",
      "395.69606937604567 232.2832585782479\n",
      "395.69625467840035 232.28309808898356\n",
      "395.6964214505194 232.28295321961738\n",
      "395.6965715454263 232.28282244869862\n",
      "395.69670663084236 232.2827044030912\n",
      "395.6968282077167 232.28259784350408\n",
      "395.69693762690343 232.2825016514345\n"
     ]
    }
   ],
   "source": [
    "Temp0 = 300\n",
    "Temp1 = 300\n",
    "Temp0_new = Temp0-1\n",
    "Temp1_new = Temp1-1\n",
    "while(abs(Temp0-Temp0_new) > 0.001 or abs(Temp1-Temp1_new) > 0.001):\n",
    "    Temp0_new = post0(t1, Temp0, Temp1)\n",
    "    Temp1_new = post1(t2, Temp0, Temp1)\n",
    "    Temp0 = Temp0 + (Temp0_new - Temp0)*0.1\n",
    "    Temp1 = Temp1 + (Temp1_new - Temp1)*0.1\n",
    "    print(Temp0, Temp1)\n"
   ]
  },
  {
   "cell_type": "code",
   "execution_count": 390,
   "metadata": {},
   "outputs": [
    {
     "name": "stdout",
     "output_type": "stream",
     "text": [
      "-40.867498348565476\n",
      "122.54693762690346\n"
     ]
    }
   ],
   "source": [
    "print(Temp1-273.15)\n",
    "print(Temp0-273.15)"
   ]
  }
 ],
 "metadata": {
  "kernelspec": {
   "display_name": "Python 3",
   "language": "python",
   "name": "python3"
  },
  "language_info": {
   "codemirror_mode": {
    "name": "ipython",
    "version": 3
   },
   "file_extension": ".py",
   "mimetype": "text/x-python",
   "name": "python",
   "nbconvert_exporter": "python",
   "pygments_lexer": "ipython3",
   "version": "3.10.7"
  }
 },
 "nbformat": 4,
 "nbformat_minor": 2
}
